{
 "cells": [
  {
   "cell_type": "code",
   "execution_count": 1,
   "metadata": {
    "collapsed": true
   },
   "outputs": [],
   "source": [
    "import pandas as pd\n",
    "import numpy as np\n",
    "import seaborn as sns\n",
    "import matplotlib.pyplot as plt\n",
    "sns.set_style('whitegrid')\n",
    "%matplotlib inline"
   ]
  },
  {
   "cell_type": "code",
   "execution_count": 2,
   "metadata": {
    "collapsed": true
   },
   "outputs": [],
   "source": [
    "bank = pd.read_csv(\"bank-full.csv\", sep=';')"
   ]
  },
  {
   "cell_type": "code",
   "execution_count": 3,
   "metadata": {},
   "outputs": [
    {
     "data": {
      "text/plain": [
       "(45211, 17)"
      ]
     },
     "execution_count": 3,
     "metadata": {},
     "output_type": "execute_result"
    }
   ],
   "source": [
    "bank.shape"
   ]
  },
  {
   "cell_type": "code",
   "execution_count": 4,
   "metadata": {},
   "outputs": [
    {
     "data": {
      "text/plain": [
       "Index(['age', 'job', 'marital', 'education', 'default', 'balance', 'housing',\n",
       "       'loan', 'contact', 'day', 'month', 'duration', 'campaign', 'pdays',\n",
       "       'previous', 'poutcome', 'y'],\n",
       "      dtype='object')"
      ]
     },
     "execution_count": 4,
     "metadata": {},
     "output_type": "execute_result"
    }
   ],
   "source": [
    "bank.columns"
   ]
  },
  {
   "cell_type": "code",
   "execution_count": 5,
   "metadata": {
    "collapsed": true
   },
   "outputs": [],
   "source": [
    "bank.rename(columns={'y':'subscribed'}, inplace=True)"
   ]
  },
  {
   "cell_type": "code",
   "execution_count": 6,
   "metadata": {},
   "outputs": [
    {
     "data": {
      "text/plain": [
       "Index(['age', 'job', 'marital', 'education', 'default', 'balance', 'housing',\n",
       "       'loan', 'contact', 'day', 'month', 'duration', 'campaign', 'pdays',\n",
       "       'previous', 'poutcome', 'subscribed'],\n",
       "      dtype='object')"
      ]
     },
     "execution_count": 6,
     "metadata": {},
     "output_type": "execute_result"
    }
   ],
   "source": [
    "bank.columns"
   ]
  },
  {
   "cell_type": "code",
   "execution_count": 7,
   "metadata": {},
   "outputs": [
    {
     "data": {
      "text/plain": [
       "False"
      ]
     },
     "execution_count": 7,
     "metadata": {},
     "output_type": "execute_result"
    }
   ],
   "source": [
    "bank.isnull().any().any()"
   ]
  },
  {
   "cell_type": "code",
   "execution_count": 8,
   "metadata": {},
   "outputs": [
    {
     "name": "stdout",
     "output_type": "stream",
     "text": [
      "<class 'pandas.core.frame.DataFrame'>\n",
      "RangeIndex: 45211 entries, 0 to 45210\n",
      "Data columns (total 17 columns):\n",
      "age           45211 non-null int64\n",
      "job           45211 non-null object\n",
      "marital       45211 non-null object\n",
      "education     45211 non-null object\n",
      "default       45211 non-null object\n",
      "balance       45211 non-null int64\n",
      "housing       45211 non-null object\n",
      "loan          45211 non-null object\n",
      "contact       45211 non-null object\n",
      "day           45211 non-null int64\n",
      "month         45211 non-null object\n",
      "duration      45211 non-null int64\n",
      "campaign      45211 non-null int64\n",
      "pdays         45211 non-null int64\n",
      "previous      45211 non-null int64\n",
      "poutcome      45211 non-null object\n",
      "subscribed    45211 non-null object\n",
      "dtypes: int64(7), object(10)\n",
      "memory usage: 5.9+ MB\n"
     ]
    }
   ],
   "source": [
    "bank.info()"
   ]
  },
  {
   "cell_type": "code",
   "execution_count": 9,
   "metadata": {
    "collapsed": true
   },
   "outputs": [],
   "source": [
    "def countPlot(column, data, palette='summer', xrotaion=0, title=\"\", hue=None, label = True):\n",
    "    plt.figure(figsize=(8,6))\n",
    "    plt.xticks(rotation=xrotaion)\n",
    "    plt.title(title)\n",
    "    values = data[column].value_counts()\n",
    "    ax = sns.countplot(column, order=values.index,data=data, palette=palette, hue=hue)\n",
    "    if label:\n",
    "        min_val = values.min()\n",
    "        ytick = ax.get_yticks()[1]\n",
    "        if(min_val/4 > ytick) :\n",
    "            min_val = ytick/5\n",
    "        else:\n",
    "            min_val = ytick/4\n",
    "        for i, v in enumerate(values.values):\n",
    "            ax.text(i, v + min_val/2, str(v), fontweight='bold',ha='center', color='red')"
   ]
  },
  {
   "cell_type": "code",
   "execution_count": 10,
   "metadata": {},
   "outputs": [
    {
     "data": {
      "image/png": "[encoded data removed]",
      "text/plain": [
       "<matplotlib.figure.Figure at 0xb6cc940>"
      ]
     },
     "metadata": {},
     "output_type": "display_data"
    }
   ],
   "source": [
    "countPlot('marital', bank, 'winter', title='Marital status of custtomers')"
   ]
  },
  {
   "cell_type": "code",
   "execution_count": 11,
   "metadata": {},
   "outputs": [
    {
     "data": {
      "image/png": "[encoded data removed]",
      "text/plain": [
       "<matplotlib.figure.Figure at 0xb6cc4e0>"
      ]
     },
     "metadata": {},
     "output_type": "display_data"
    }
   ],
   "source": [
    "countPlot('job', bank, 'inferno_r', 90, title=\"Different Job category of Customers\")"
   ]
  },
  {
   "cell_type": "code",
   "execution_count": 12,
   "metadata": {},
   "outputs": [
    {
     "data": {
      "image/png": "[encoded data removed]",
      "text/plain": [
       "<matplotlib.figure.Figure at 0xc2db710>"
      ]
     },
     "metadata": {},
     "output_type": "display_data"
    }
   ],
   "source": [
    "countPlot('education', bank, palette='cubehelix', title=\"Education Level of Customers\")"
   ]
  },
  {
   "cell_type": "code",
   "execution_count": 13,
   "metadata": {},
   "outputs": [
    {
     "data": {
      "image/png": "[encoded data removed]",
      "text/plain": [
       "<matplotlib.figure.Figure at 0xc337c50>"
      ]
     },
     "metadata": {},
     "output_type": "display_data"
    }
   ],
   "source": [
    "countPlot('contact', data=bank, palette=\"nipy_spectral\", title=\"Medium of communication type with customers\")"
   ]
  },
  {
   "cell_type": "code",
   "execution_count": 14,
   "metadata": {},
   "outputs": [
    {
     "data": {
      "image/png": "[encoded data removed]",
      "text/plain": [
       "<matplotlib.figure.Figure at 0xc3cc2e8>"
      ]
     },
     "metadata": {},
     "output_type": "display_data"
    }
   ],
   "source": [
    "countPlot('housing',bank, palette='gnuplot',title='Number of Customer who has housing loan')"
   ]
  },
  {
   "cell_type": "code",
   "execution_count": 15,
   "metadata": {},
   "outputs": [
    {
     "data": {
      "image/png": "[encoded data removed]",
      "text/plain": [
       "<matplotlib.figure.Figure at 0xb7f30b8>"
      ]
     },
     "metadata": {},
     "output_type": "display_data"
    }
   ],
   "source": [
    "countPlot('loan',bank,title='Number of customer who has personal loan', palette='hsv')"
   ]
  },
  {
   "cell_type": "code",
   "execution_count": 16,
   "metadata": {},
   "outputs": [
    {
     "data": {
      "image/png": "[encoded data removed]",
      "text/plain": [
       "<matplotlib.figure.Figure at 0xc5169b0>"
      ]
     },
     "metadata": {},
     "output_type": "display_data"
    }
   ],
   "source": [
    "countPlot('poutcome', bank, title='Outcome of the previous marketing campaign', palette='gist_rainbow_r')"
   ]
  },
  {
   "cell_type": "code",
   "execution_count": 17,
   "metadata": {},
   "outputs": [
    {
     "data": {
      "image/png": "[encoded data removed]",
      "text/plain": [
       "<matplotlib.figure.Figure at 0xc54e588>"
      ]
     },
     "metadata": {},
     "output_type": "display_data"
    }
   ],
   "source": [
    "countPlot('marital', bank, 'winter', title='Subscribed for term deposit according to Marital status of custtomers', hue='subscribed', label=False)"
   ]
  },
  {
   "cell_type": "code",
   "execution_count": 18,
   "metadata": {
    "scrolled": false
   },
   "outputs": [
    {
     "data": {
      "image/png": "[encoded data removed]",
      "text/plain": [
       "<matplotlib.figure.Figure at 0xc5f9358>"
      ]
     },
     "metadata": {},
     "output_type": "display_data"
    }
   ],
   "source": [
    "countPlot('job', bank, 'inferno_r', 90, title=\"Subscribed for term deposit according to Job category of Customers\", label=False, hue='subscribed')"
   ]
  },
  {
   "cell_type": "markdown",
   "metadata": {},
   "source": [
    "From above graph we observe that only Managment and technical job related are only some intrest in term deposit"
   ]
  },
  {
   "cell_type": "code",
   "execution_count": 19,
   "metadata": {
    "collapsed": true
   },
   "outputs": [],
   "source": [
    "from matplotlib import rcParams\n",
    "rcParams['patch.force_edgecolor'] = True\n",
    "rcParams['patch.facecolor'] = 'r'"
   ]
  },
  {
   "cell_type": "code",
   "execution_count": 20,
   "metadata": {},
   "outputs": [
    {
     "data": {
      "text/plain": [
       "<matplotlib.axes._subplots.AxesSubplot at 0xc5cfcf8>"
      ]
     },
     "execution_count": 20,
     "metadata": {},
     "output_type": "execute_result"
    },
    {
     "data": {
      "image/png": "[encoded data removed]",
      "text/plain": [
       "<matplotlib.figure.Figure at 0xc7181d0>"
      ]
     },
     "metadata": {},
     "output_type": "display_data"
    }
   ],
   "source": [
    "sns.set_palette('magma')\n",
    "sns.distplot(bank['age'], bins=10, kde=True, norm_hist=False, color='b')"
   ]
  },
  {
   "cell_type": "markdown",
   "metadata": {},
   "source": [
    "This graph show that there are outliers in age"
   ]
  },
  {
   "cell_type": "code",
   "execution_count": null,
   "metadata": {
    "collapsed": true
   },
   "outputs": [],
   "source": []
  },
  {
   "cell_type": "code",
   "execution_count": 21,
   "metadata": {},
   "outputs": [
    {
     "data": {
      "text/plain": [
       "<matplotlib.axes._subplots.AxesSubplot at 0xc840550>"
      ]
     },
     "execution_count": 21,
     "metadata": {},
     "output_type": "execute_result"
    },
    {
     "data": {
      "image/png": "[encoded data removed]",
      "text/plain": [
       "<matplotlib.figure.Figure at 0xc835128>"
      ]
     },
     "metadata": {},
     "output_type": "display_data"
    }
   ],
   "source": [
    "plt.figure(figsize=(16,12))\n",
    "plt.title('Pearson correlation of continuous features', y=1, size=12)\n",
    "sns.heatmap(bank.corr(), cmap='Wistia', linewidths=0.11, square=True, annot=True)"
   ]
  },
  {
   "cell_type": "code",
   "execution_count": 22,
   "metadata": {
    "collapsed": true
   },
   "outputs": [],
   "source": [
    "# Lets Do some Data Cleaning"
   ]
  },
  {
   "cell_type": "code",
   "execution_count": 23,
   "metadata": {
    "collapsed": true
   },
   "outputs": [],
   "source": [
    "# According to my uderstanding Bank campaign result and related info to campaign is not valuable for analysis. \n",
    "# It may be help post analysis\n",
    "bank.drop(['contact', 'day', 'month', 'duration', 'campaign', 'pdays','previous', 'poutcome'], axis=1, inplace=True)"
   ]
  },
  {
   "cell_type": "code",
   "execution_count": 24,
   "metadata": {},
   "outputs": [
    {
     "name": "stdout",
     "output_type": "stream",
     "text": [
      "<class 'pandas.core.frame.DataFrame'>\n",
      "RangeIndex: 45211 entries, 0 to 45210\n",
      "Data columns (total 9 columns):\n",
      "age           45211 non-null int64\n",
      "job           45211 non-null object\n",
      "marital       45211 non-null object\n",
      "education     45211 non-null object\n",
      "default       45211 non-null object\n",
      "balance       45211 non-null int64\n",
      "housing       45211 non-null object\n",
      "loan          45211 non-null object\n",
      "subscribed    45211 non-null object\n",
      "dtypes: int64(2), object(7)\n",
      "memory usage: 3.1+ MB\n"
     ]
    }
   ],
   "source": [
    "bank.info()"
   ]
  },
  {
   "cell_type": "code",
   "execution_count": 25,
   "metadata": {
    "collapsed": true
   },
   "outputs": [],
   "source": [
    "job = pd.get_dummies(bank['job'],drop_first=True)\n",
    "marital = pd.get_dummies(bank['marital'],drop_first=True)\n",
    "education = pd.get_dummies(bank['education'],drop_first=True)\n",
    "housing = pd.get_dummies(bank['housing'],drop_first=True)\n",
    "default = pd.get_dummies(bank['default'],drop_first=True)\n",
    "# contact = pd.get_dummies(bank['contact'],drop_first=True)\n",
    "# month = pd.get_dummies(bank['month'],drop_first=True)\n",
    "loan = pd.get_dummies(bank['loan'],drop_first=True)\n",
    "#poutcome = pd.get_dummies(bank['loan'],drop_first=True)"
   ]
  },
  {
   "cell_type": "code",
   "execution_count": 26,
   "metadata": {
    "collapsed": true
   },
   "outputs": [],
   "source": [
    "bank.drop(['job', 'marital', 'education', 'default', 'housing','loan'], axis=1, inplace=True)"
   ]
  },
  {
   "cell_type": "code",
   "execution_count": 27,
   "metadata": {
    "collapsed": true
   },
   "outputs": [],
   "source": [
    "bank = pd.concat([bank, job, marital, education, housing, default, loan], axis=1)"
   ]
  },
  {
   "cell_type": "code",
   "execution_count": 28,
   "metadata": {},
   "outputs": [
    {
     "data": {
      "text/html": [
       "<div>\n",
       "<style>\n",
       "    .dataframe thead tr:only-child th {\n",
       "        text-align: right;\n",
       "    }\n",
       "\n",
       "    .dataframe thead th {\n",
       "        text-align: left;\n",
       "    }\n",
       "\n",
       "    .dataframe tbody tr th {\n",
       "        vertical-align: top;\n",
       "    }\n",
       "</style>\n",
       "<table border=\"1\" class=\"dataframe\">\n",
       "  <thead>\n",
       "    <tr style=\"text-align: right;\">\n",
       "      <th></th>\n",
       "      <th>age</th>\n",
       "      <th>balance</th>\n",
       "      <th>subscribed</th>\n",
       "      <th>blue-collar</th>\n",
       "      <th>entrepreneur</th>\n",
       "      <th>housemaid</th>\n",
       "      <th>management</th>\n",
       "      <th>retired</th>\n",
       "      <th>self-employed</th>\n",
       "      <th>services</th>\n",
       "      <th>...</th>\n",
       "      <th>unemployed</th>\n",
       "      <th>unknown</th>\n",
       "      <th>married</th>\n",
       "      <th>single</th>\n",
       "      <th>secondary</th>\n",
       "      <th>tertiary</th>\n",
       "      <th>unknown</th>\n",
       "      <th>yes</th>\n",
       "      <th>yes</th>\n",
       "      <th>yes</th>\n",
       "    </tr>\n",
       "  </thead>\n",
       "  <tbody>\n",
       "    <tr>\n",
       "      <th>0</th>\n",
       "      <td>58</td>\n",
       "      <td>2143</td>\n",
       "      <td>no</td>\n",
       "      <td>0</td>\n",
       "      <td>0</td>\n",
       "      <td>0</td>\n",
       "      <td>1</td>\n",
       "      <td>0</td>\n",
       "      <td>0</td>\n",
       "      <td>0</td>\n",
       "      <td>...</td>\n",
       "      <td>0</td>\n",
       "      <td>0</td>\n",
       "      <td>1</td>\n",
       "      <td>0</td>\n",
       "      <td>0</td>\n",
       "      <td>1</td>\n",
       "      <td>0</td>\n",
       "      <td>1</td>\n",
       "      <td>0</td>\n",
       "      <td>0</td>\n",
       "    </tr>\n",
       "    <tr>\n",
       "      <th>1</th>\n",
       "      <td>44</td>\n",
       "      <td>29</td>\n",
       "      <td>no</td>\n",
       "      <td>0</td>\n",
       "      <td>0</td>\n",
       "      <td>0</td>\n",
       "      <td>0</td>\n",
       "      <td>0</td>\n",
       "      <td>0</td>\n",
       "      <td>0</td>\n",
       "      <td>...</td>\n",
       "      <td>0</td>\n",
       "      <td>0</td>\n",
       "      <td>0</td>\n",
       "      <td>1</td>\n",
       "      <td>1</td>\n",
       "      <td>0</td>\n",
       "      <td>0</td>\n",
       "      <td>1</td>\n",
       "      <td>0</td>\n",
       "      <td>0</td>\n",
       "    </tr>\n",
       "    <tr>\n",
       "      <th>2</th>\n",
       "      <td>33</td>\n",
       "      <td>2</td>\n",
       "      <td>no</td>\n",
       "      <td>0</td>\n",
       "      <td>1</td>\n",
       "      <td>0</td>\n",
       "      <td>0</td>\n",
       "      <td>0</td>\n",
       "      <td>0</td>\n",
       "      <td>0</td>\n",
       "      <td>...</td>\n",
       "      <td>0</td>\n",
       "      <td>0</td>\n",
       "      <td>1</td>\n",
       "      <td>0</td>\n",
       "      <td>1</td>\n",
       "      <td>0</td>\n",
       "      <td>0</td>\n",
       "      <td>1</td>\n",
       "      <td>0</td>\n",
       "      <td>1</td>\n",
       "    </tr>\n",
       "    <tr>\n",
       "      <th>3</th>\n",
       "      <td>47</td>\n",
       "      <td>1506</td>\n",
       "      <td>no</td>\n",
       "      <td>1</td>\n",
       "      <td>0</td>\n",
       "      <td>0</td>\n",
       "      <td>0</td>\n",
       "      <td>0</td>\n",
       "      <td>0</td>\n",
       "      <td>0</td>\n",
       "      <td>...</td>\n",
       "      <td>0</td>\n",
       "      <td>0</td>\n",
       "      <td>1</td>\n",
       "      <td>0</td>\n",
       "      <td>0</td>\n",
       "      <td>0</td>\n",
       "      <td>1</td>\n",
       "      <td>1</td>\n",
       "      <td>0</td>\n",
       "      <td>0</td>\n",
       "    </tr>\n",
       "    <tr>\n",
       "      <th>4</th>\n",
       "      <td>33</td>\n",
       "      <td>1</td>\n",
       "      <td>no</td>\n",
       "      <td>0</td>\n",
       "      <td>0</td>\n",
       "      <td>0</td>\n",
       "      <td>0</td>\n",
       "      <td>0</td>\n",
       "      <td>0</td>\n",
       "      <td>0</td>\n",
       "      <td>...</td>\n",
       "      <td>0</td>\n",
       "      <td>1</td>\n",
       "      <td>0</td>\n",
       "      <td>1</td>\n",
       "      <td>0</td>\n",
       "      <td>0</td>\n",
       "      <td>1</td>\n",
       "      <td>0</td>\n",
       "      <td>0</td>\n",
       "      <td>0</td>\n",
       "    </tr>\n",
       "  </tbody>\n",
       "</table>\n",
       "<p>5 rows × 22 columns</p>\n",
       "</div>"
      ],
      "text/plain": [
       "   age  balance subscribed  blue-collar  entrepreneur  housemaid  management  \\\n",
       "0   58     2143         no            0             0          0           1   \n",
       "1   44       29         no            0             0          0           0   \n",
       "2   33        2         no            0             1          0           0   \n",
       "3   47     1506         no            1             0          0           0   \n",
       "4   33        1         no            0             0          0           0   \n",
       "\n",
       "   retired  self-employed  services ...   unemployed  unknown  married  \\\n",
       "0        0              0         0 ...            0        0        1   \n",
       "1        0              0         0 ...            0        0        0   \n",
       "2        0              0         0 ...            0        0        1   \n",
       "3        0              0         0 ...            0        0        1   \n",
       "4        0              0         0 ...            0        1        0   \n",
       "\n",
       "   single  secondary  tertiary  unknown  yes  yes  yes  \n",
       "0       0          0         1        0    1    0    0  \n",
       "1       1          1         0        0    1    0    0  \n",
       "2       0          1         0        0    1    0    1  \n",
       "3       0          0         0        1    1    0    0  \n",
       "4       1          0         0        1    0    0    0  \n",
       "\n",
       "[5 rows x 22 columns]"
      ]
     },
     "execution_count": 28,
     "metadata": {},
     "output_type": "execute_result"
    }
   ],
   "source": [
    "bank.head()"
   ]
  },
  {
   "cell_type": "markdown",
   "metadata": {},
   "source": [
    "### Check important feature in dataset"
   ]
  },
  {
   "cell_type": "code",
   "execution_count": 29,
   "metadata": {
    "collapsed": true
   },
   "outputs": [],
   "source": [
    "from sklearn.model_selection import train_test_split"
   ]
  },
  {
   "cell_type": "code",
   "execution_count": 30,
   "metadata": {
    "collapsed": true
   },
   "outputs": [],
   "source": [
    "X_train, X_test, y_train, y_test = train_test_split(bank.drop('subscribed',axis=1), bank['subscribed'], test_size=0.30, random_state=101)"
   ]
  },
  {
   "cell_type": "code",
   "execution_count": 31,
   "metadata": {},
   "outputs": [
    {
     "name": "stderr",
     "output_type": "stream",
     "text": [
      "C:\\Users\\AMIT\\Anaconda3\\lib\\site-packages\\statsmodels\\compat\\pandas.py:56: FutureWarning: The pandas.core.datetools module is deprecated and will be removed in a future version. Please use the pandas.tseries module instead.\n",
      "  from pandas.core import datetools\n"
     ]
    },
    {
     "name": "stdout",
     "output_type": "stream",
     "text": [
      "Optimization terminated successfully.\n",
      "         Current function value: 0.344174\n",
      "         Iterations 7\n",
      "                           Logit Regression Results                           \n",
      "==============================================================================\n",
      "Dep. Variable:                      y   No. Observations:                31647\n",
      "Model:                          Logit   Df Residuals:                    31626\n",
      "Method:                           MLE   Df Model:                           20\n",
      "Date:                Mon, 15 Jan 2018   Pseudo R-squ.:                 0.04455\n",
      "Time:                        12:36:36   Log-Likelihood:                -10892.\n",
      "converged:                       True   LL-Null:                       -11400.\n",
      "                                        LLR p-value:                1.776e-202\n",
      "=================================================================================\n",
      "                    coef    std err          z      P>|z|      [0.025      0.975]\n",
      "---------------------------------------------------------------------------------\n",
      "age              -0.0192      0.001    -13.491      0.000      -0.022      -0.016\n",
      "balance        2.197e-05   4.76e-06      4.612      0.000    1.26e-05    3.13e-05\n",
      "blue-collar      -0.6463      0.066     -9.766      0.000      -0.776      -0.517\n",
      "entrepreneur     -0.7258      0.127     -5.731      0.000      -0.974      -0.478\n",
      "housemaid        -0.8398      0.133     -6.307      0.000      -1.101      -0.579\n",
      "management       -0.3917      0.068     -5.724      0.000      -0.526      -0.258\n",
      "retired           0.5798      0.091      6.376      0.000       0.402       0.758\n",
      "self-employed    -0.4199      0.106     -3.947      0.000      -0.628      -0.211\n",
      "services         -0.5105      0.079     -6.422      0.000      -0.666      -0.355\n",
      "student           0.0661      0.102      0.646      0.518      -0.134       0.267\n",
      "technician       -0.4625      0.064     -7.260      0.000      -0.587      -0.338\n",
      "unemployed       -0.2487      0.107     -2.332      0.020      -0.458      -0.040\n",
      "unknown          -0.7119      0.231     -3.082      0.002      -1.165      -0.259\n",
      "married          -0.4538      0.050     -8.999      0.000      -0.553      -0.355\n",
      "single           -0.2529      0.053     -4.762      0.000      -0.357      -0.149\n",
      "secondary        -0.1907      0.053     -3.593      0.000      -0.295      -0.087\n",
      "tertiary          0.0919      0.064      1.427      0.153      -0.034       0.218\n",
      "unknown          -0.0457      0.100     -0.457      0.648      -0.242       0.150\n",
      "yes              -0.8794      0.037    -23.707      0.000      -0.952      -0.807\n",
      "yes              -0.5049      0.174     -2.909      0.004      -0.845      -0.165\n",
      "yes              -0.6004      0.060    -10.022      0.000      -0.718      -0.483\n",
      "=================================================================================\n"
     ]
    }
   ],
   "source": [
    "import statsmodels.api as sm\n",
    "logit_model=sm.Logit(list(map(lambda x:1 if x == 'yes' else 0, y_train)),X_train) #Since sm modle not accepting string array\n",
    "result=logit_model.fit()\n",
    "print(result.summary())"
   ]
  },
  {
   "cell_type": "markdown",
   "metadata": {},
   "source": [
    "From above table we can see  student  unemployed tertiary not contributing much. In real world also student and uneployed not intrested for term deposit"
   ]
  },
  {
   "cell_type": "code",
   "execution_count": 32,
   "metadata": {
    "collapsed": true
   },
   "outputs": [],
   "source": [
    "bank.drop(['student', 'tertiary', 'unemployed'], axis=1, inplace=True)"
   ]
  },
  {
   "cell_type": "code",
   "execution_count": 33,
   "metadata": {
    "collapsed": true
   },
   "outputs": [],
   "source": [
    "#re-create train and test data\n",
    "\n",
    "X_train, X_test, y_train, y_test = train_test_split(bank.drop('subscribed',axis=1), bank['subscribed'], test_size=0.30, random_state=101)"
   ]
  },
  {
   "cell_type": "markdown",
   "metadata": {},
   "source": [
    "## Building a Logistic Regression model"
   ]
  },
  {
   "cell_type": "code",
   "execution_count": 34,
   "metadata": {
    "collapsed": true
   },
   "outputs": [],
   "source": [
    "from sklearn.linear_model import LogisticRegression"
   ]
  },
  {
   "cell_type": "code",
   "execution_count": 35,
   "metadata": {},
   "outputs": [
    {
     "data": {
      "text/plain": [
       "LogisticRegression(C=1.0, class_weight=None, dual=False, fit_intercept=True,\n",
       "          intercept_scaling=1, max_iter=100, multi_class='ovr', n_jobs=1,\n",
       "          penalty='l2', random_state=None, solver='liblinear', tol=0.0001,\n",
       "          verbose=0, warm_start=False)"
      ]
     },
     "execution_count": 35,
     "metadata": {},
     "output_type": "execute_result"
    }
   ],
   "source": [
    "logModel = LogisticRegression()\n",
    "logModel.fit(X_train, y_train)"
   ]
  },
  {
   "cell_type": "code",
   "execution_count": 36,
   "metadata": {
    "collapsed": true
   },
   "outputs": [],
   "source": [
    "log_predicted = logModel.predict(X_test)"
   ]
  },
  {
   "cell_type": "code",
   "execution_count": 37,
   "metadata": {},
   "outputs": [
    {
     "name": "stdout",
     "output_type": "stream",
     "text": [
      "Accuracy of logistic regression classifier on test set: 0.88\n"
     ]
    }
   ],
   "source": [
    "print('Accuracy of logistic regression classifier on test set: {:.2f}'.format(logModel.score(X_test, y_test)))"
   ]
  },
  {
   "cell_type": "code",
   "execution_count": 38,
   "metadata": {
    "collapsed": true
   },
   "outputs": [],
   "source": [
    "from sklearn.metrics import classification_report"
   ]
  },
  {
   "cell_type": "code",
   "execution_count": 39,
   "metadata": {},
   "outputs": [
    {
     "name": "stdout",
     "output_type": "stream",
     "text": [
      "             precision    recall  f1-score   support\n",
      "\n",
      "         no       0.88      1.00      0.94     11967\n",
      "        yes       0.67      0.00      0.00      1597\n",
      "\n",
      "avg / total       0.86      0.88      0.83     13564\n",
      "\n"
     ]
    }
   ],
   "source": [
    "print(classification_report(y_test, log_predicted))"
   ]
  },
  {
   "cell_type": "markdown",
   "metadata": {},
   "source": [
    "- The precision is the ratio tp / (tp + fp) where tp is the number of true positives and fp the number of false positives. The precision is intuitively the ability of the classifier to not label a sample as positive if it is negative.\n",
    "\n",
    "- The recall is the ratio tp / (tp + fn) where tp is the number of true positives and fn the number of false negatives. The recall is intuitively the ability of the classifier to find all the positive samples.\n",
    "\n",
    "- The F-beta score can be interpreted as a weighted harmonic mean of the precision and recall, where an F-beta score reaches its best value at 1 and worst score at 0.\n",
    "\n",
    "- The F-beta score weights the recall more than the precision by a factor of beta. beta = 1.0 means recall and precision are equally important."
   ]
  },
  {
   "cell_type": "code",
   "execution_count": 40,
   "metadata": {
    "collapsed": true
   },
   "outputs": [],
   "source": [
    "import itertools\n",
    "def plot_confusion_matrix(cm, classes,\n",
    "                          normalize=False,\n",
    "                          title='Confusion matrix',\n",
    "                          cmap=plt.cm.Blues):\n",
    "    \"\"\"\n",
    "    This function prints and plots the confusion matrix.\n",
    "    Normalization can be applied by setting `normalize=True`.\n",
    "    \"\"\"\n",
    "    if normalize:\n",
    "        cm = cm.astype('float') / cm.sum(axis=1)[:, np.newaxis]\n",
    "        print(\"Normalized confusion matrix\")\n",
    "    else:\n",
    "        print('Confusion matrix, without normalization')\n",
    "\n",
    "    print(cm)\n",
    "\n",
    "    plt.imshow(cm, interpolation='nearest', cmap=cmap)\n",
    "    plt.title(title)\n",
    "    plt.colorbar()\n",
    "    tick_marks = np.arange(len(classes))\n",
    "    plt.xticks(tick_marks, classes, rotation=45)\n",
    "    plt.yticks(tick_marks, classes)\n",
    "\n",
    "    fmt = '.2f' if normalize else 'd'\n",
    "    thresh = cm.max() / 2.\n",
    "    for i, j in itertools.product(range(cm.shape[0]), range(cm.shape[1])):\n",
    "        plt.text(j, i, format(cm[i, j], fmt),\n",
    "                 horizontalalignment=\"center\",\n",
    "                 color=\"white\" if cm[i, j] > thresh else \"black\")\n",
    "\n",
    "    plt.tight_layout()\n",
    "    plt.ylabel('True label')\n",
    "    plt.xlabel('Predicted label')"
   ]
  },
  {
   "cell_type": "code",
   "execution_count": 41,
   "metadata": {},
   "outputs": [
    {
     "name": "stdout",
     "output_type": "stream",
     "text": [
      "<function confusion_matrix at 0x000000000C648840>\n",
      "Confusion matrix, without normalization\n",
      "[[11966     1]\n",
      " [ 1595     2]]\n"
     ]
    },
    {
     "data": {
      "image/png": "[encoded data removed]",
      "text/plain": [
       "<matplotlib.figure.Figure at 0xe81f9e8>"
      ]
     },
     "metadata": {},
     "output_type": "display_data"
    }
   ],
   "source": [
    "from sklearn.metrics import confusion_matrix\n",
    "log_confusion_matrix = confusion_matrix(y_test, log_predicted)\n",
    "print(confusion_matrix)\n",
    "colormap = plt.cm.BuPu\n",
    "plot_confusion_matrix(log_confusion_matrix, classes=['no', 'yes'], cmap=colormap, normalize=False)"
   ]
  },
  {
   "cell_type": "markdown",
   "metadata": {},
   "source": [
    "The result is telling us that we have **11969** correct predictions and **1595** incorrect predictions. \n",
    "- Accuracy is (11967+2)/(11967+0+2+1595) = 0.88"
   ]
  },
  {
   "cell_type": "code",
   "execution_count": 42,
   "metadata": {},
   "outputs": [
    {
     "name": "stdout",
     "output_type": "stream",
     "text": [
      "Negative predictive value (NPV) 0.88\n",
      "Positive predictive value (PPV) 0.67\n",
      "Specificity value 1.00\n",
      "Sensitivity value 0.00\n"
     ]
    }
   ],
   "source": [
    "# TN/TN+FN\n",
    "npv = 11969/(11969 + 1595) \n",
    "print(\"Negative predictive value (NPV) %.2f\" % npv)\n",
    "\n",
    "#TP/TP+FP\n",
    "ppv = 2/(2 + 1) \n",
    "print(\"Positive predictive value (PPV) %.2f\" % ppv)\n",
    " #TN/TN+FP\n",
    "specificity = 11969 / (11969 + 1)\n",
    " #TP/TP+FN\n",
    "sensitivity = 2 / (2 + 1595)\n",
    "\n",
    "print(\"Specificity value %.2f\" % specificity)\n",
    "print(\"Sensitivity value %.2f\" % sensitivity)"
   ]
  },
  {
   "cell_type": "markdown",
   "metadata": {},
   "source": [
    "- A positive screen test is in itself poor at confirming the customer have term deposit (PPV = 67%) and further investigations must be undertaken; it did, however, correctly identify 0% of all cases (the sensitivity).\n",
    "- A negative result is very good at reassuring that a customer does not have subscribed a term deposit (NPV = 88%) and at this initial screen correctly identifies 100% of those who do not have a term deposit (the specificity)."
   ]
  },
  {
   "cell_type": "code",
   "execution_count": 43,
   "metadata": {
    "collapsed": true
   },
   "outputs": [],
   "source": [
    "# #ROC -. receiver operating characteristic\n",
    "# from sklearn.metrics import roc_auc_score\n",
    "# from sklearn.metrics import roc_curve\n",
    "# from sklearn.metrics import accuracy_score\n",
    "# print(\"accuracy of model %0.2f\" % accuracy_score(new_y, log_predicted))\n",
    "# logit_roc_auc = roc_auc_score(new_y, log_predicted)\n",
    "# fpr, tpr, thresholds = roc_curve(new_y, logModel.predict_proba(X_test)[:,1])\n",
    "# # print(tpr)\n",
    "# plt.figure(figsize=(8,5))\n",
    "# plt.plot(fpr, tpr, label='Logistic Regression (area = %0.2f)' % logit_roc_auc)\n",
    "# plt.plot([0, 1], [0, 1],'r--')\n",
    "# plt.xlim([0.0, 1.0])\n",
    "# plt.ylim([0.0, 1.05])\n",
    "# plt.xlabel('False Positive Rate')\n",
    "# plt.ylabel('True Positive Rate')\n",
    "# plt.title('Receiver operating characteristic')\n",
    "# plt.legend(loc=\"lower right\")\n",
    "# # plt.savefig('Log_ROC')"
   ]
  },
  {
   "cell_type": "markdown",
   "metadata": {},
   "source": [
    "The **receiver operating characteristic (ROC) curve** is a two dimensional graph in which the false positive rate is plotted on the X axis and the true positive rate is plotted on the Y axis. The ROC curves are useful to visualize and compare the performance of classifier methods.\n",
    "\n",
    "**Sensitivity** (also called the **true positive rate**) and **specificity**(also called the **true negative rate**) are statistical measures of the performance of a binary classification test, also known in statistics as classification function:\n",
    "\n",
    "- **true positive (TP)** : predicted to be positive and the actual value is also positive- \n",
    "- **false positive (FP)** : predicted to be positive but the actual value is negative\n",
    "- **true negative (TN)** : predicted to be negative and the actual value is also negative\n",
    "- **false negative (FN)** : predicted to be negative but the actual value is positive"
   ]
  },
  {
   "cell_type": "markdown",
   "metadata": {},
   "source": [
    "## Cross Validation"
   ]
  },
  {
   "cell_type": "code",
   "execution_count": 44,
   "metadata": {
    "collapsed": true
   },
   "outputs": [],
   "source": [
    "from sklearn import model_selection"
   ]
  },
  {
   "cell_type": "code",
   "execution_count": 45,
   "metadata": {},
   "outputs": [
    {
     "name": "stdout",
     "output_type": "stream",
     "text": [
      "10-fold cross validation average accuracy: 0.883\n"
     ]
    }
   ],
   "source": [
    "kfold = model_selection.KFold(n_splits=10, random_state=7)\n",
    "modelCV = LogisticRegression()\n",
    "result = model_selection.cross_val_score(modelCV, X_train, y_train, cv=kfold, scoring='accuracy')\n",
    "kfold = model_selection.KFold(n_splits=10, random_state=7)\n",
    "print(\"10-fold cross validation average accuracy: %.3f\" % (result.mean()))"
   ]
  },
  {
   "cell_type": "markdown",
   "metadata": {},
   "source": [
    "## Decision Tree"
   ]
  },
  {
   "cell_type": "code",
   "execution_count": 46,
   "metadata": {
    "collapsed": true
   },
   "outputs": [],
   "source": [
    "from sklearn import tree"
   ]
  },
  {
   "cell_type": "code",
   "execution_count": 47,
   "metadata": {
    "collapsed": true
   },
   "outputs": [],
   "source": [
    "clf = tree.DecisionTreeClassifier()\n",
    "clf = clf.fit(X_train, y_train)"
   ]
  },
  {
   "cell_type": "code",
   "execution_count": 48,
   "metadata": {
    "collapsed": true
   },
   "outputs": [],
   "source": [
    "dt_predict = clf.predict(X_test)"
   ]
  },
  {
   "cell_type": "code",
   "execution_count": 49,
   "metadata": {},
   "outputs": [
    {
     "name": "stdout",
     "output_type": "stream",
     "text": [
      "Accuracy of logistic regression classifier on test set: 0.82\n"
     ]
    }
   ],
   "source": [
    "print('Accuracy of logistic regression classifier on test set: {:.2f}'.format(clf.score(X_test, y_test)))"
   ]
  },
  {
   "cell_type": "code",
   "execution_count": 50,
   "metadata": {},
   "outputs": [
    {
     "name": "stdout",
     "output_type": "stream",
     "text": [
      "             precision    recall  f1-score   support\n",
      "\n",
      "         no       0.91      0.89      0.90     11967\n",
      "        yes       0.28      0.32      0.30      1597\n",
      "\n",
      "avg / total       0.83      0.82      0.83     13564\n",
      "\n"
     ]
    }
   ],
   "source": [
    "print(classification_report(y_test, dt_predict))"
   ]
  },
  {
   "cell_type": "code",
   "execution_count": 51,
   "metadata": {},
   "outputs": [
    {
     "name": "stdout",
     "output_type": "stream",
     "text": [
      "Confusion matrix, without normalization\n",
      "[[10669  1298]\n",
      " [ 1092   505]]\n"
     ]
    },
    {
     "data": {
      "image/png": "[encoded data removed]",
      "text/plain": [
       "<matplotlib.figure.Figure at 0xe93e198>"
      ]
     },
     "metadata": {},
     "output_type": "display_data"
    }
   ],
   "source": [
    "tree_confusion_matrix = confusion_matrix(y_test, dt_predict)\n",
    "# print(tree_confusion_matrix)\n",
    "colormap = plt.cm.hsv\n",
    "plot_confusion_matrix(tree_confusion_matrix, classes=['no', 'yes'], cmap=colormap, normalize=False)"
   ]
  },
  {
   "cell_type": "code",
   "execution_count": 52,
   "metadata": {},
   "outputs": [
    {
     "name": "stdout",
     "output_type": "stream",
     "text": [
      "Negative predictive value (NPV) 0.89\n",
      "Positive predictive value (PPV) 0.32\n",
      "Specificity value 0.91\n",
      "Sensitivity value 0.28\n"
     ]
    }
   ],
   "source": [
    "# TN/TN+FN\n",
    "npv = 10661/(10661 + 1306) \n",
    "print(\"Negative predictive value (NPV) %.2f\" % npv)\n",
    "\n",
    "#TP/TP+FP\n",
    "ppv = 504/(504 + 1093) \n",
    "print(\"Positive predictive value (PPV) %.2f\" % ppv)\n",
    " #TN/TN+FP\n",
    "specificity = 10661 / (10661 + 1093)\n",
    " #TP/TP+FN\n",
    "sensitivity = 504 / (504 + 1306)\n",
    "\n",
    "print(\"Specificity value %.2f\" % specificity)\n",
    "print(\"Sensitivity value %.2f\" % sensitivity)"
   ]
  },
  {
   "cell_type": "markdown",
   "metadata": {},
   "source": [
    "- A positive screen test is in itself poor at confirming the customer have term deposit (PPV = 32%) and further investigations must be undertaken; it did, however, correctly identify 28% of all cases (the sensitivity).\n",
    "- A negative result is very good at reassuring that a customer does not have subscribed a term deposit (NPV = 89%) and at this initial screen correctly identifies 91% of those who do not have a term deposit (the specificity)."
   ]
  },
  {
   "cell_type": "code",
   "execution_count": 53,
   "metadata": {},
   "outputs": [
    {
     "name": "stdout",
     "output_type": "stream",
     "text": [
      "10-fold cross validation average accuracy: 0.825\n"
     ]
    }
   ],
   "source": [
    "kfold = model_selection.KFold(n_splits=10, random_state=7)\n",
    "modelTree = tree.DecisionTreeClassifier()\n",
    "tree_result = model_selection.cross_val_score(modelTree, X_train, y_train, cv=kfold, scoring='accuracy')\n",
    "kfold = model_selection.KFold(n_splits=10, random_state=7)\n",
    "print(\"10-fold cross validation average accuracy: %.3f\" % (tree_result.mean()))"
   ]
  },
  {
   "cell_type": "markdown",
   "metadata": {},
   "source": [
    "## Random forest"
   ]
  },
  {
   "cell_type": "code",
   "execution_count": 54,
   "metadata": {
    "collapsed": true
   },
   "outputs": [],
   "source": [
    "from sklearn.ensemble import RandomForestClassifier"
   ]
  },
  {
   "cell_type": "code",
   "execution_count": 55,
   "metadata": {
    "collapsed": true
   },
   "outputs": [],
   "source": [
    "forest = RandomForestClassifier()\n",
    "forest = forest.fit(X_train, y_train)"
   ]
  },
  {
   "cell_type": "code",
   "execution_count": 56,
   "metadata": {},
   "outputs": [
    {
     "name": "stdout",
     "output_type": "stream",
     "text": [
      "Accuracy of logistic regression classifier on test set: 0.87\n"
     ]
    }
   ],
   "source": [
    "forest_predict = forest.predict(X_test)\n",
    "print('Accuracy of logistic regression classifier on test set: {:.2f}'.format(forest.score(X_test, y_test)))"
   ]
  },
  {
   "cell_type": "code",
   "execution_count": 57,
   "metadata": {},
   "outputs": [
    {
     "name": "stdout",
     "output_type": "stream",
     "text": [
      "             precision    recall  f1-score   support\n",
      "\n",
      "         no       0.90      0.96      0.93     11967\n",
      "        yes       0.43      0.22      0.29      1597\n",
      "\n",
      "avg / total       0.85      0.87      0.86     13564\n",
      "\n"
     ]
    }
   ],
   "source": [
    "print(classification_report(y_test, forest_predict))"
   ]
  },
  {
   "cell_type": "code",
   "execution_count": 58,
   "metadata": {},
   "outputs": [
    {
     "name": "stdout",
     "output_type": "stream",
     "text": [
      "Confusion matrix, without normalization\n",
      "[[11488   479]\n",
      " [ 1242   355]]\n"
     ]
    },
    {
     "data": {
      "image/png": "[encoded data removed]",
      "text/plain": [
       "<matplotlib.figure.Figure at 0xe8b3a90>"
      ]
     },
     "metadata": {},
     "output_type": "display_data"
    }
   ],
   "source": [
    "forest_confusion_matrix = confusion_matrix(y_test, forest_predict)\n",
    "# print(tree_confusion_matrix)\n",
    "colormap = plt.cm.Accent_r\n",
    "plot_confusion_matrix(forest_confusion_matrix, classes=['no', 'yes'], cmap=colormap, normalize=False)"
   ]
  },
  {
   "cell_type": "code",
   "execution_count": 59,
   "metadata": {},
   "outputs": [
    {
     "name": "stdout",
     "output_type": "stream",
     "text": [
      "Negative predictive value 0.90\n",
      "Positive predictive value 0.42\n",
      "Specificity value 0.96\n",
      "Sensitivity value 0.23\n"
     ]
    }
   ],
   "source": [
    "# TN/TN+FN\n",
    "npv = 11470/(11470 + 1229) \n",
    "print(\"Negative predictive value %.2f\" % npv)\n",
    "\n",
    "#TP/TP+FP\n",
    "ppv = 358/(358 + 497) \n",
    "print(\"Positive predictive value %.2f\" % ppv)\n",
    " #TN/TN+FP\n",
    "specificity = 11470 / (11470 + 497)\n",
    " #TP/TP+FN\n",
    "sensitivity = 358 / (358 + 1229)\n",
    "\n",
    "print(\"Specificity value %.2f\" % specificity)\n",
    "print(\"Sensitivity value %.2f\" % sensitivity)"
   ]
  },
  {
   "cell_type": "markdown",
   "metadata": {},
   "source": [
    "- A positive screen test is in itself poor at confirming the customer have term deposit (PPV = 42%) and further investigations must be undertaken; it did, however, correctly identify 23% of all cases (the sensitivity).\n",
    "- A negative result is very good at reassuring that a customer does not have subscribed a term deposit (NPV = 90%) and at this initial screen correctly identifies 96% of those who do not have a term deposit (the specificity)."
   ]
  },
  {
   "cell_type": "code",
   "execution_count": 60,
   "metadata": {},
   "outputs": [
    {
     "name": "stdout",
     "output_type": "stream",
     "text": [
      "10-fold cross validation average accuracy: 0.824\n"
     ]
    }
   ],
   "source": [
    "modelForest = tree.DecisionTreeClassifier()\n",
    "forest_result = model_selection.cross_val_score(modelForest, X_train, y_train, cv=kfold, scoring='accuracy')\n",
    "kfold = model_selection.KFold(n_splits=10, random_state=7)\n",
    "print(\"10-fold cross validation average accuracy: %.3f\" % (forest_result.mean()))"
   ]
  },
  {
   "cell_type": "markdown",
   "metadata": {
    "collapsed": true
   },
   "source": [
    "**Conclusion**\n",
    "\n",
    "I tried all three Logistic/Decision Tree/ Random Forest In which Logistic gave me better result with 88% of accuracy\n",
    "\n",
    "But in all above three method we are able to predict good nuber of True Negative rather than True positive\n",
    "\n",
    "Only Decision Tree give some good result with True positve but that is also not too good"
   ]
  }
 ],
 "metadata": {
  "kernelspec": {
   "display_name": "Python 3",
   "language": "python",
   "name": "python3"
  },
  "language_info": {
   "codemirror_mode": {
    "name": "ipython",
    "version": 3
   },
   "file_extension": ".py",
   "mimetype": "text/x-python",
   "name": "python",
   "nbconvert_exporter": "python",
   "pygments_lexer": "ipython3",
   "version": "3.6.2"
  }
 },
 "nbformat": 4,
 "nbformat_minor": 2
}
