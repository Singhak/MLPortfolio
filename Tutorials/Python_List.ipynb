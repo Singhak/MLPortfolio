{
 "cells": [
  {
   "cell_type": "markdown",
   "metadata": {},
   "source": [
    "# In this Tutorial, we'll learn about Python lists"
   ]
  },
  {
   "cell_type": "markdown",
   "metadata": {},
   "source": [
    "## Create"
   ]
  },
  {
   "cell_type": "code",
   "execution_count": 1,
   "metadata": {},
   "outputs": [],
   "source": [
    "empty_list = []\n",
    "int_list = [1, 2, 3]\n",
    "str_list = [\"2\", \"Hi\", \"list\"]\n",
    "mixed_list = [1, \"Hi\", 2.0]\n",
    "nested_list = [\"Hi\", [1,2], \"Bye\", 6]"
   ]
  },
  {
   "cell_type": "code",
   "execution_count": 2,
   "metadata": {},
   "outputs": [
    {
     "name": "stdout",
     "output_type": "stream",
     "text": [
      "[]\n",
      "[1, 2, 3]\n",
      "['2', 'Hi', 'list']\n",
      "[1, 'Hi', 2.0]\n",
      "['Hi', [1, 2], 'Bye', 6]\n"
     ]
    }
   ],
   "source": [
    "print(empty_list)\n",
    "print(int_list)\n",
    "print(str_list)\n",
    "print(mixed_list)\n",
    "print(nested_list)"
   ]
  },
  {
   "cell_type": "code",
   "execution_count": 3,
   "metadata": {
    "collapsed": true
   },
   "outputs": [],
   "source": [
    "### creating list via copy other list"
   ]
  },
  {
   "cell_type": "code",
   "execution_count": 4,
   "metadata": {},
   "outputs": [
    {
     "name": "stdout",
     "output_type": "stream",
     "text": [
      "['Hi', [1, 2], 'Bye', 6]\n"
     ]
    }
   ],
   "source": [
    "copy_list = nested_list.copy()\n",
    "print(copy_list)"
   ]
  },
  {
   "cell_type": "markdown",
   "metadata": {},
   "source": [
    "### different way to add element in list"
   ]
  },
  {
   "cell_type": "markdown",
   "metadata": {},
   "source": [
    "## Append\n",
    "\n",
    "- append object to end"
   ]
  },
  {
   "cell_type": "code",
   "execution_count": 5,
   "metadata": {},
   "outputs": [
    {
     "name": "stdout",
     "output_type": "stream",
     "text": [
      "[6, 'Hi', [2, 3, 5]]\n"
     ]
    }
   ],
   "source": [
    "empty_list.append(6)\n",
    "empty_list.append(\"Hi\")\n",
    "empty_list.append([2,3,5])\n",
    "print(empty_list)"
   ]
  },
  {
   "cell_type": "markdown",
   "metadata": {},
   "source": [
    "## Extend\n",
    "\n",
    "- extend list by appending elements from the iterable"
   ]
  },
  {
   "cell_type": "code",
   "execution_count": 6,
   "metadata": {},
   "outputs": [
    {
     "name": "stdout",
     "output_type": "stream",
     "text": [
      "['2', 'Hi', 'list', 'A', 'n', 't', 'h', 'o', 'n', 'y']\n"
     ]
    }
   ],
   "source": [
    "str_list.extend(\"Anthony\")\n",
    "print(str_list)"
   ]
  },
  {
   "cell_type": "code",
   "execution_count": 7,
   "metadata": {},
   "outputs": [
    {
     "name": "stdout",
     "output_type": "stream",
     "text": [
      "[1, 'Hi', 2.0, 1, '2', 5.0]\n"
     ]
    }
   ],
   "source": [
    "mixed_list.extend([1,'2',5.0])\n",
    "print(mixed_list)"
   ]
  },
  {
   "cell_type": "code",
   "execution_count": 8,
   "metadata": {},
   "outputs": [
    {
     "ename": "TypeError",
     "evalue": "'int' object is not iterable",
     "output_type": "error",
     "traceback": [
      "\u001b[1;31m---------------------------------------------------------------------------\u001b[0m",
      "\u001b[1;31mTypeError\u001b[0m                                 Traceback (most recent call last)",
      "\u001b[1;32m<ipython-input-8-da4949f964a3>\u001b[0m in \u001b[0;36m<module>\u001b[1;34m()\u001b[0m\n\u001b[1;32m----> 1\u001b[1;33m \u001b[0mempty_list\u001b[0m\u001b[1;33m.\u001b[0m\u001b[0mextend\u001b[0m\u001b[1;33m(\u001b[0m\u001b[1;36m1\u001b[0m\u001b[1;33m)\u001b[0m \u001b[1;31m# Give error since extend take iterable argument\u001b[0m\u001b[1;33m\u001b[0m\u001b[0m\n\u001b[0m",
      "\u001b[1;31mTypeError\u001b[0m: 'int' object is not iterable"
     ]
    }
   ],
   "source": [
    "empty_list.extend(1) # Give error since extend take iterable argument"
   ]
  },
  {
   "cell_type": "code",
   "execution_count": 9,
   "metadata": {},
   "outputs": [
    {
     "name": "stdout",
     "output_type": "stream",
     "text": [
      "before  [1, 2, 3]\n",
      "after  [1, 2, 5]\n"
     ]
    }
   ],
   "source": [
    "print(\"before \", int_list)\n",
    "int_list[2] = 5  # it will replace index 2 element value with 5\n",
    "print(\"after \", int_list)"
   ]
  },
  {
   "cell_type": "markdown",
   "metadata": {},
   "source": [
    "## insert\n",
    "\n",
    "- insert object before index"
   ]
  },
  {
   "cell_type": "code",
   "execution_count": 10,
   "metadata": {},
   "outputs": [
    {
     "name": "stdout",
     "output_type": "stream",
     "text": [
      "before insert:  ['Hi', [1, 2], 'Bye', 6]\n",
      "after insert:  ['Hi', [2, 4, 5], [1, 2], 'Bye', 6]\n"
     ]
    }
   ],
   "source": [
    "print(\"before insert: \", nested_list)\n",
    "nested_list.insert(1, [2,4,5])\n",
    "print(\"after insert: \", nested_list)"
   ]
  },
  {
   "cell_type": "markdown",
   "metadata": {},
   "source": [
    "### different way to remove replace and pop the list element"
   ]
  },
  {
   "cell_type": "markdown",
   "metadata": {},
   "source": [
    "## pop\n",
    "- remove and return item at index (default last).\n",
    "- Raises IndexError if list is empty or index is out of range.\n",
    "- pop return item which we pop out"
   ]
  },
  {
   "cell_type": "code",
   "execution_count": 11,
   "metadata": {},
   "outputs": [
    {
     "name": "stdout",
     "output_type": "stream",
     "text": [
      "Before pop:  ['Hi', [2, 4, 5], [1, 2], 'Bye', 6]\n",
      "poped item is  6\n",
      "After pop:  ['Hi', [2, 4, 5], [1, 2], 'Bye']\n",
      "poped item:  [2, 4, 5]\n",
      "After another pop:  ['Hi', [1, 2], 'Bye']\n"
     ]
    }
   ],
   "source": [
    "print(\"Before pop: \", nested_list)\n",
    "print(\"poped item is \",nested_list.pop())\n",
    "print(\"After pop: \",nested_list)\n",
    "print(\"poped item: \",nested_list.pop(1))\n",
    "print(\"After another pop: \",nested_list)"
   ]
  },
  {
   "cell_type": "markdown",
   "metadata": {},
   "source": [
    "## Remove\n",
    "- It des not retun anything\n",
    "- remove first occurrence of value.\n",
    "- Raises ValueError if the value is not present."
   ]
  },
  {
   "cell_type": "code",
   "execution_count": 12,
   "metadata": {},
   "outputs": [
    {
     "name": "stdout",
     "output_type": "stream",
     "text": [
      "Before remove:  ['Hi', [1, 2], 'Bye']\n",
      "After remove:  ['Hi', [1, 2]]\n"
     ]
    }
   ],
   "source": [
    "print(\"Before remove: \", nested_list)\n",
    "nested_list.remove('Bye')\n",
    "print(\"After remove: \", nested_list)"
   ]
  },
  {
   "cell_type": "markdown",
   "metadata": {},
   "source": [
    "## Clear\n",
    "- remove all items from List"
   ]
  },
  {
   "cell_type": "code",
   "execution_count": 13,
   "metadata": {},
   "outputs": [
    {
     "name": "stdout",
     "output_type": "stream",
     "text": [
      "Size before  3\n",
      "Size after: 0\n"
     ]
    }
   ],
   "source": [
    "print(\"Size before \", len(empty_list))\n",
    "empty_list.clear()\n",
    "print(\"Size after:\", len(empty_list))"
   ]
  },
  {
   "cell_type": "code",
   "execution_count": 14,
   "metadata": {},
   "outputs": [
    {
     "name": "stdout",
     "output_type": "stream",
     "text": [
      "Before delete  [1, 2, 5]\n",
      "After delete  [2, 5]\n"
     ]
    }
   ],
   "source": [
    "print(\"Before delete \", int_list)\n",
    "del int_list[0]\n",
    "print(\"After delete \", int_list)"
   ]
  },
  {
   "cell_type": "markdown",
   "metadata": {},
   "source": [
    "### other operations on list"
   ]
  },
  {
   "cell_type": "markdown",
   "metadata": {},
   "source": [
    "## count\n",
    "- return number of occurrences of value"
   ]
  },
  {
   "cell_type": "code",
   "execution_count": 15,
   "metadata": {},
   "outputs": [
    {
     "data": {
      "text/plain": [
       "0"
      ]
     },
     "execution_count": 15,
     "metadata": {},
     "output_type": "execute_result"
    }
   ],
   "source": [
    "nested_list.count('in') #number of \"in\" element in the nested_list"
   ]
  },
  {
   "cell_type": "markdown",
   "metadata": {},
   "source": [
    "## sort\n",
    "- stable sort *IN PLACE*"
   ]
  },
  {
   "cell_type": "code",
   "execution_count": 16,
   "metadata": {},
   "outputs": [
    {
     "name": "stdout",
     "output_type": "stream",
     "text": [
      "Before sort:  [2, 5]\n",
      "After sort:  [2, 5]\n"
     ]
    }
   ],
   "source": [
    "print(\"Before sort: \", int_list)\n",
    "int_list.sort()\n",
    "print(\"After sort: \", int_list)"
   ]
  },
  {
   "cell_type": "markdown",
   "metadata": {},
   "source": [
    "## reverse\n",
    "- reverse *IN PLACE*"
   ]
  },
  {
   "cell_type": "code",
   "execution_count": 17,
   "metadata": {},
   "outputs": [
    {
     "name": "stdout",
     "output_type": "stream",
     "text": [
      "Before reverse:  ['Hi', [1, 2]]\n",
      "After reverse:  [[1, 2], 'Hi']\n"
     ]
    }
   ],
   "source": [
    "print(\"Before reverse: \", nested_list)\n",
    "nested_list.reverse()\n",
    "print(\"After reverse: \", nested_list)"
   ]
  },
  {
   "cell_type": "markdown",
   "metadata": {},
   "source": [
    "###  Access  and Slice elements from a list\n",
    "\n",
    "#### [start_index : end_index : step]"
   ]
  },
  {
   "cell_type": "code",
   "execution_count": 18,
   "metadata": {},
   "outputs": [
    {
     "name": "stdout",
     "output_type": "stream",
     "text": [
      "3\n",
      "ryt\n",
      "[3, 5, '7', 9, 3, '25', 8]\n",
      "[5, '7']\n",
      "[3, 5, '7', 9, 3, '25', 8, 'ryt']\n",
      "[3, 9, 8]\n",
      "['ryt', 8, '25', 3, 9, '7', 5, 3]\n",
      "['25', 8]\n"
     ]
    }
   ],
   "source": [
    "#[start_index : end_index : step]\n",
    "nested_list = [3,5,\"7\",9,3,\"25\",8, \"ryt\"]\n",
    "print(nested_list[0])\n",
    "print(nested_list[-1])\n",
    "print(nested_list[:-1])\n",
    "print(nested_list[1:3])\n",
    "print(nested_list[:])\n",
    "print(nested_list[0::3])\n",
    "print(nested_list[::-1])\n",
    "print(nested_list[-3:-1])"
   ]
  },
  {
   "cell_type": "markdown",
   "metadata": {},
   "source": [
    "## List Comprehensions\n",
    "- List comprehensions provide a concise way to create lists"
   ]
  },
  {
   "cell_type": "code",
   "execution_count": 19,
   "metadata": {},
   "outputs": [
    {
     "name": "stdout",
     "output_type": "stream",
     "text": [
      "[0, 1, 4, 9, 16, 25, 36, 49, 64, 81]\n"
     ]
    }
   ],
   "source": [
    "squares = []\n",
    "for x in range(10):\n",
    "    squares.append(x**2)\n",
    "print(squares)"
   ]
  },
  {
   "cell_type": "code",
   "execution_count": 20,
   "metadata": {},
   "outputs": [
    {
     "name": "stdout",
     "output_type": "stream",
     "text": [
      "[0, 1, 2, 3, 4, 5, 6, 7, 8, 9, 10, 11, 12, 13, 14, 15, 16, 17, 18, 19]\n"
     ]
    }
   ],
   "source": [
    "power = [x for x in range(20)]\n",
    "print(power)"
   ]
  },
  {
   "cell_type": "code",
   "execution_count": 21,
   "metadata": {},
   "outputs": [
    {
     "data": {
      "text/plain": [
       "['Python Language', 'Python Programming', 'C Language', 'C Programming']"
      ]
     },
     "execution_count": 21,
     "metadata": {},
     "output_type": "execute_result"
    }
   ],
   "source": [
    "[x+y for x in ['Python ','C '] for y in ['Language','Programming']]"
   ]
  },
  {
   "cell_type": "code",
   "execution_count": 22,
   "metadata": {},
   "outputs": [
    {
     "data": {
      "text/plain": [
       "[0, 1, 4, 9, 16, 25, 36, 49, 64, 81]"
      ]
     },
     "execution_count": 22,
     "metadata": {},
     "output_type": "execute_result"
    }
   ],
   "source": [
    "list(map(lambda x: x**2, range(10))) # map(func, *iterables)"
   ]
  },
  {
   "cell_type": "markdown",
   "metadata": {},
   "source": [
    "### builtin function with list"
   ]
  },
  {
   "cell_type": "code",
   "execution_count": 23,
   "metadata": {
    "collapsed": true
   },
   "outputs": [],
   "source": [
    "inbuilt = [1,5,8,3,0,3,6]"
   ]
  },
  {
   "cell_type": "markdown",
   "metadata": {},
   "source": [
    "## min and max"
   ]
  },
  {
   "cell_type": "code",
   "execution_count": 24,
   "metadata": {},
   "outputs": [
    {
     "data": {
      "text/plain": [
       "0"
      ]
     },
     "execution_count": 24,
     "metadata": {},
     "output_type": "execute_result"
    }
   ],
   "source": [
    "min(inbuilt)"
   ]
  },
  {
   "cell_type": "code",
   "execution_count": 25,
   "metadata": {},
   "outputs": [
    {
     "data": {
      "text/plain": [
       "8"
      ]
     },
     "execution_count": 25,
     "metadata": {},
     "output_type": "execute_result"
    }
   ],
   "source": [
    "max(inbuilt)"
   ]
  },
  {
   "cell_type": "markdown",
   "metadata": {},
   "source": [
    "## any\n",
    "- Return True if any element of the list is true. If the list is empty, return False."
   ]
  },
  {
   "cell_type": "code",
   "execution_count": 26,
   "metadata": {},
   "outputs": [
    {
     "name": "stdout",
     "output_type": "stream",
     "text": [
      "True\n",
      "False\n",
      "True\n",
      "False\n"
     ]
    }
   ],
   "source": [
    "l = [1, 3, 4, 0] # all true\n",
    "print(any(l)) #True\n",
    "\n",
    "l = [0, False] # all false\n",
    "print(any(l)) #False\n",
    "\n",
    "l = [0, False, 5] # atleast one true\n",
    "print(any(l)) #True\n",
    "\n",
    "l = []           #empty list\n",
    "print(any(l)) #False"
   ]
  },
  {
   "cell_type": "markdown",
   "metadata": {},
   "source": [
    "## sorted\n",
    "- Return a new sorted list (does not sort the list IN PLACE)."
   ]
  },
  {
   "cell_type": "code",
   "execution_count": 27,
   "metadata": {},
   "outputs": [
    {
     "data": {
      "text/plain": [
       "[0, 1, 3, 3, 5, 6, 8]"
      ]
     },
     "execution_count": 27,
     "metadata": {},
     "output_type": "execute_result"
    }
   ],
   "source": [
    " sorted(inbuilt)"
   ]
  },
  {
   "cell_type": "markdown",
   "metadata": {},
   "source": [
    "## sum"
   ]
  },
  {
   "cell_type": "code",
   "execution_count": 28,
   "metadata": {},
   "outputs": [
    {
     "data": {
      "text/plain": [
       "26"
      ]
     },
     "execution_count": 28,
     "metadata": {},
     "output_type": "execute_result"
    }
   ],
   "source": [
    "sum(inbuilt)"
   ]
  },
  {
   "cell_type": "markdown",
   "metadata": {},
   "source": [
    "## all\n",
    "- Return True if all elements of the list are true (or if the list is empty)."
   ]
  },
  {
   "cell_type": "code",
   "execution_count": 29,
   "metadata": {},
   "outputs": [
    {
     "name": "stdout",
     "output_type": "stream",
     "text": [
      "False\n",
      "True\n",
      "True\n"
     ]
    }
   ],
   "source": [
    "print(all(inbuilt))\n",
    "print(all([]))\n",
    "print(all([1,3,4]))"
   ]
  },
  {
   "cell_type": "markdown",
   "metadata": {},
   "source": [
    "## List Membership Test\n",
    " - we will use ** in ** and ** not in ** operator to check element present or not in list"
   ]
  },
  {
   "cell_type": "code",
   "execution_count": 30,
   "metadata": {},
   "outputs": [
    {
     "name": "stdout",
     "output_type": "stream",
     "text": [
      "[1, 5, 8, 3, 0, 3, 6]\n",
      "True\n",
      "True\n",
      "False\n"
     ]
    }
   ],
   "source": [
    "print(inbuilt)\n",
    "print(1 in inbuilt)\n",
    "print(9 not in inbuilt)\n",
    "print(9 in inbuilt)"
   ]
  }
 ],
 "metadata": {
  "kernelspec": {
   "display_name": "Python 3",
   "language": "python",
   "name": "python3"
  },
  "language_info": {
   "codemirror_mode": {
    "name": "ipython",
    "version": 3
   },
   "file_extension": ".py",
   "mimetype": "text/x-python",
   "name": "python",
   "nbconvert_exporter": "python",
   "pygments_lexer": "ipython3",
   "version": "3.6.2"
  }
 },
 "nbformat": 4,
 "nbformat_minor": 2
}
