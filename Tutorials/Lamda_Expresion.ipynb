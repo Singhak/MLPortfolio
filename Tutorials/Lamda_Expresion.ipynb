{
 "cells": [
  {
   "cell_type": "markdown",
   "metadata": {},
   "source": [
    "# Lambda and its use cases"
   ]
  },
  {
   "cell_type": "markdown",
   "metadata": {},
   "source": [
    "### Syntax of Lambda Function in python\n",
    "> lambda arguments: expression\n",
    "\n",
    "- Lambda functions can have any number of arguments but only one expression. \n",
    "- The expression is evaluated and returned. Lambda functions can be used wherever function objects are required."
   ]
  },
  {
   "cell_type": "code",
   "execution_count": 1,
   "metadata": {},
   "outputs": [
    {
     "name": "stdout",
     "output_type": "stream",
     "text": [
      "4\n",
      "4\n"
     ]
    }
   ],
   "source": [
    "#normal function\n",
    "\n",
    "def square(x): return x*x\n",
    "\n",
    "#equivalent in lambda\n",
    "\n",
    "lambda x: x*x # here cannot use it in other place so we will assigne into any variable\n",
    "\n",
    "squrt = lambda x: x*x\n",
    "\n",
    "print(square(2))\n",
    "print(squrt(2))"
   ]
  },
  {
   "cell_type": "code",
   "execution_count": 2,
   "metadata": {},
   "outputs": [
    {
     "name": "stdout",
     "output_type": "stream",
     "text": [
      "8\n",
      "8\n"
     ]
    }
   ],
   "source": [
    "def sum(x, y) : return x+y\n",
    "\n",
    "lam_sum = lambda x,y:x+y\n",
    "\n",
    "print(sum(3, 5))\n",
    "print(lam_sum(3,5))"
   ]
  },
  {
   "cell_type": "code",
   "execution_count": 3,
   "metadata": {},
   "outputs": [
    {
     "name": "stdout",
     "output_type": "stream",
     "text": [
      "5\n",
      "4\n",
      "33\n"
     ]
    }
   ],
   "source": [
    "def make_incrementor (n): return lambda x: x + n\n",
    "\n",
    "f = make_incrementor(2)\n",
    "g = make_incrementor(3)\n",
    "\n",
    "print(f(3))\n",
    "print(f(2))\n",
    "\n",
    "print(make_incrementor(12)(21))\n",
    "\n",
    "# The above code defines a function \"make_inrementor\" that creates an anonymous function on the fly and returns it. \n",
    "# The returned function increments its argument by the value that was specified when it was created."
   ]
  },
  {
   "cell_type": "markdown",
   "metadata": {},
   "source": [
    "> we use the standard functions filter(), map() and reduce() to do various things with that list. \n",
    "All of the three functions expect two arguments: A function and a list. so we use labda expresion."
   ]
  },
  {
   "cell_type": "code",
   "execution_count": 4,
   "metadata": {},
   "outputs": [
    {
     "name": "stdout",
     "output_type": "stream",
     "text": [
      "[12, 38, 22, 14, 12]\n"
     ]
    }
   ],
   "source": [
    "# In this example, filter() calls our lambda function for each element of the list, and \n",
    "# returns a new list that contains only those elements for which the function returned \"True\". \n",
    "\n",
    "temp_list = [12, 38, 19, 22, 14, 9, 12, 27]\n",
    "print(list(filter(lambda x: x%2 == 0, temp_list)))"
   ]
  },
  {
   "cell_type": "code",
   "execution_count": 5,
   "metadata": {},
   "outputs": [
    {
     "name": "stdout",
     "output_type": "stream",
     "text": [
      "[144, 1444, 361, 484, 196, 81, 144, 729]\n"
     ]
    }
   ],
   "source": [
    "# In this example, map() is used to convert our list. The given function is called for every element in the original list, and \n",
    "# a new list is created which contains the return values from our lambda function. \n",
    "\n",
    "print(list(map(lambda x : x**2, temp_list)))"
   ]
  },
  {
   "cell_type": "code",
   "execution_count": 6,
   "metadata": {},
   "outputs": [
    {
     "name": "stdout",
     "output_type": "stream",
     "text": [
      "[14, 42, 24, 88, 89, 31]\n"
     ]
    }
   ],
   "source": [
    "temp2_list = [2, 4, 5, 66, 75, 22]\n",
    "print(list(map(lambda x,y : x+y, temp_list, temp2_list)))\n",
    "\n",
    "#Here we pass two list of different size. If size are different of list then lambda function iterate upto shortest length list"
   ]
  },
  {
   "cell_type": "code",
   "execution_count": 7,
   "metadata": {},
   "outputs": [
    {
     "name": "stdout",
     "output_type": "stream",
     "text": [
      "113\n"
     ]
    }
   ],
   "source": [
    "# reduce() is somewhat special. The \"worker function\" for this one must accept two arguments (we've called them x and y here), \n",
    "# not just one. The function is called with the first two elements from the list, \n",
    "# then with the result of that call and the third element, and so on, until all of the list elements have been handled. \n",
    "import functools\n",
    "print(functools.reduce(lambda x, y: x + y, [47,11,42,13]))"
   ]
  },
  {
   "attachments": {
    "image.png": {
     "image/png": "[encoded data removed]"
    }
   },
   "cell_type": "markdown",
   "metadata": {},
   "source": [
    "- The following diagram shows the intermediate steps of the calculation:\n",
    "![image.png](attachment:image.png)"
   ]
  },
  {
   "cell_type": "code",
   "execution_count": 8,
   "metadata": {},
   "outputs": [
    {
     "name": "stdout",
     "output_type": "stream",
     "text": [
      "[('34587', 163.8), ('98762', 284.0), ('77226', 108.85000000000001), ('88112', 84.97)]\n"
     ]
    }
   ],
   "source": [
    "orders = [ [\"34587\", \"Learning Python, Mark Lutz\", 4, 40.95], \n",
    "\t       [\"98762\", \"Programming Python, Mark Lutz\", 5, 56.80], \n",
    "           [\"77226\", \"Head First Python, Paul Barry\", 3,32.95],\n",
    "           [\"88112\", \"Einführung in Python3, Bernd Klein\", \t3, 24.99]]\n",
    "\n",
    "min_order = 100\n",
    "invoice_totals = list(map(lambda x: x if x[1] >= min_order else (x[0], x[1] + 10), map(lambda x: (x[0],x[2] * x[3]), orders)))\n",
    "\n",
    "print(invoice_totals)"
   ]
  },
  {
   "cell_type": "code",
   "execution_count": 11,
   "metadata": {},
   "outputs": [
    {
     "name": "stdout",
     "output_type": "stream",
     "text": [
      "[2, 2, 7, 7, 2, 5]\n"
     ]
    }
   ],
   "source": [
    "print(list(map(lambda w: len(w), 'It is raining outside of house'.split())))"
   ]
  }
 ],
 "metadata": {
  "kernelspec": {
   "display_name": "Python 3",
   "language": "python",
   "name": "python3"
  },
  "language_info": {
   "codemirror_mode": {
    "name": "ipython",
    "version": 3
   },
   "file_extension": ".py",
   "mimetype": "text/x-python",
   "name": "python",
   "nbconvert_exporter": "python",
   "pygments_lexer": "ipython3",
   "version": "3.6.2"
  }
 },
 "nbformat": 4,
 "nbformat_minor": 2
}
