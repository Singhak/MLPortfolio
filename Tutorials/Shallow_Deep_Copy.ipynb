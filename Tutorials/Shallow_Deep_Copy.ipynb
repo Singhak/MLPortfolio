{
 "cells": [
  {
   "cell_type": "markdown",
   "metadata": {},
   "source": [
    "## In this tutorial cover the question of how to copy lists and nested lists."
   ]
  },
  {
   "cell_type": "markdown",
   "metadata": {},
   "source": [
    "#### The difference between shallow and deep copying is only relevant for compound objects (objects that contain other objects, like lists or class instances):\n",
    "\n",
    "- A shallow copy constructs a new compound object and then (to the extent possible) inserts references into it to the objects found in the original.\n",
    "\n",
    "- A deep copy constructs a new compound object and then, recursively, inserts copies into it of the objects found in the original."
   ]
  },
  {
   "cell_type": "markdown",
   "metadata": {},
   "source": [
    "#### Two problems often exist with deep copy operations that don’t exist with shallow copy operations:\n",
    "\n",
    "- Recursive objects (compound objects that, directly or indirectly, contain a reference to themselves) may cause a recursive loop.\n",
    "- Because deep copy copies everything it may copy too much, such as data which is intended to be shared between copies."
   ]
  },
  {
   "cell_type": "markdown",
   "metadata": {},
   "source": [
    "#### The deepcopy() function avoids these problems by:\n",
    "\n",
    "- keeping a “memo” dictionary of objects already copied during the current copying pass; and\n",
    "- letting user-defined classes override the copying operation or the set of components copied."
   ]
  },
  {
   "cell_type": "code",
   "execution_count": 1,
   "metadata": {
    "collapsed": true
   },
   "outputs": [],
   "source": [
    "x_list = ['a','b','c','d']\n",
    "y_list = x_list"
   ]
  },
  {
   "cell_type": "code",
   "execution_count": 2,
   "metadata": {},
   "outputs": [
    {
     "name": "stdout",
     "output_type": "stream",
     "text": [
      "['a', 'b', 'c', 'd']\n",
      "['a', 'b', 'c', 'd']\n"
     ]
    }
   ],
   "source": [
    "print(y_list)\n",
    "print(x_list)"
   ]
  },
  {
   "cell_type": "code",
   "execution_count": 3,
   "metadata": {},
   "outputs": [
    {
     "name": "stdout",
     "output_type": "stream",
     "text": [
      "['a', 'e', 'c', 'd']\n"
     ]
    }
   ],
   "source": [
    "# Here we are replacing in x_list element at position 1 but this change also reflect in y_list also\n",
    "x_list[1] = 'e'\n",
    "print(y_list)"
   ]
  },
  {
   "cell_type": "code",
   "execution_count": 4,
   "metadata": {},
   "outputs": [
    {
     "name": "stdout",
     "output_type": "stream",
     "text": [
      "['a', 'e', 'c', 'd']\n"
     ]
    }
   ],
   "source": [
    "z_list = y_list[:]\n",
    "print(z_list)"
   ]
  },
  {
   "cell_type": "code",
   "execution_count": 5,
   "metadata": {},
   "outputs": [
    {
     "name": "stdout",
     "output_type": "stream",
     "text": [
      "['a', 'b', 'c', 'd']\n",
      "['a', 'e', 'c', 'd']\n"
     ]
    }
   ],
   "source": [
    "# while we are creating copy using slicing change in y_list not reflect in z_list\n",
    "y_list[1] = 'b'\n",
    "print(y_list)\n",
    "print(z_list)"
   ]
  },
  {
   "cell_type": "code",
   "execution_count": 6,
   "metadata": {},
   "outputs": [
    {
     "name": "stdout",
     "output_type": "stream",
     "text": [
      "['a', 'b', [1, 2, 3], 'c']\n",
      "['a', 'b', [1, 2, 3], 'c']\n"
     ]
    }
   ],
   "source": [
    "# But as soon as a list contains sublists, we have another difficulty: \n",
    "# The sublists are not copied but only the references to the sublists.\n",
    "# means if list has sublit as element then that list copy as refrence\n",
    "\n",
    "sub_list = ['a','b', [1,2,3], 'c']\n",
    "s_list = sub_list[:]\n",
    "print(sub_list)\n",
    "print(s_list)"
   ]
  },
  {
   "cell_type": "code",
   "execution_count": 7,
   "metadata": {},
   "outputs": [
    {
     "name": "stdout",
     "output_type": "stream",
     "text": [
      "['a', 'b', [1, 4, 3], 'c']\n"
     ]
    }
   ],
   "source": [
    "# As we change chage sublist elment of sub_list its change also reflect in also s_list element\n",
    "sub_list[2][1] = 4\n",
    "print(s_list)"
   ]
  },
  {
   "cell_type": "code",
   "execution_count": 8,
   "metadata": {
    "collapsed": true
   },
   "outputs": [],
   "source": [
    "# Now use deepcopy\n",
    "import copy"
   ]
  },
  {
   "cell_type": "code",
   "execution_count": 9,
   "metadata": {},
   "outputs": [
    {
     "name": "stdout",
     "output_type": "stream",
     "text": [
      "['a', 'b', [1, 4, 3], 'c']\n",
      "['a', 'b', [1, 4, 3], 'c']\n"
     ]
    }
   ],
   "source": [
    "print(sub_list)\n",
    "deep_list = copy.deepcopy(sub_list)\n",
    "print(deep_list)"
   ]
  },
  {
   "cell_type": "code",
   "execution_count": 10,
   "metadata": {},
   "outputs": [
    {
     "name": "stdout",
     "output_type": "stream",
     "text": [
      "['a', 'b', [1, 2, 3], 'c']\n",
      "['a', 'b', [1, 4, 3], 'c']\n"
     ]
    }
   ],
   "source": [
    "# After using deepcopy method above problem resolve\n",
    "sub_list[2][1] = 2\n",
    "print(sub_list)\n",
    "print(deep_list)"
   ]
  },
  {
   "cell_type": "code",
   "execution_count": 11,
   "metadata": {},
   "outputs": [
    {
     "name": "stdout",
     "output_type": "stream",
     "text": [
      "['e', 'b', [1, 2, 3], 'c']\n",
      "['a', 'b', [1, 4, 3], 'c']\n"
     ]
    }
   ],
   "source": [
    "sub_list[0] = 'e'\n",
    "print(sub_list)\n",
    "print(deep_list)"
   ]
  }
 ],
 "metadata": {
  "kernelspec": {
   "display_name": "Python 3",
   "language": "python",
   "name": "python3"
  },
  "language_info": {
   "codemirror_mode": {
    "name": "ipython",
    "version": 3
   },
   "file_extension": ".py",
   "mimetype": "text/x-python",
   "name": "python",
   "nbconvert_exporter": "python",
   "pygments_lexer": "ipython3",
   "version": "3.6.2"
  }
 },
 "nbformat": 4,
 "nbformat_minor": 2
}
