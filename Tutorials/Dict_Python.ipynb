{
 "cells": [
  {
   "cell_type": "markdown",
   "metadata": {},
   "source": [
    "# This tutorial all about Dictionary"
   ]
  },
  {
   "cell_type": "markdown",
   "metadata": {},
   "source": [
    "## Creation"
   ]
  },
  {
   "cell_type": "code",
   "execution_count": 1,
   "metadata": {},
   "outputs": [
    {
     "data": {
      "text/plain": [
       "{'name': 'lamda', 'stable': True, 'version': 3.6}"
      ]
     },
     "execution_count": 1,
     "metadata": {},
     "output_type": "execute_result"
    }
   ],
   "source": [
    "#creating dict with key alue pairs\n",
    "dict_way_one = {'name':\"lamda\", \"version\":3.6, \"stable\":True}\n",
    "dict_way_one"
   ]
  },
  {
   "cell_type": "code",
   "execution_count": 2,
   "metadata": {},
   "outputs": [
    {
     "data": {
      "text/plain": [
       "{'name': 'lamda', 'stable': True, 'version': 3.6}"
      ]
     },
     "execution_count": 2,
     "metadata": {},
     "output_type": "execute_result"
    }
   ],
   "source": [
    "#empty dict\n",
    "dict_way_two = {}\n",
    "#assigne the value to empy dict\n",
    "dict_way_two['name'] = 'lamda'\n",
    "dict_way_two['version'] = 3.6\n",
    "dict_way_two['stable'] = True\n",
    "\n",
    "dict_way_two"
   ]
  },
  {
   "cell_type": "code",
   "execution_count": 3,
   "metadata": {},
   "outputs": [
    {
     "data": {
      "text/plain": [
       "{'name': 'lamda', 'stable': True, 'version': 3.6}"
      ]
     },
     "execution_count": 3,
     "metadata": {},
     "output_type": "execute_result"
    }
   ],
   "source": [
    "#create dict using dict()\n",
    "dict_way_third = dict({'name':\"lamda\", \"version\":3.6, \"stable\":True})\n",
    "dict_way_third"
   ]
  },
  {
   "cell_type": "code",
   "execution_count": 4,
   "metadata": {},
   "outputs": [
    {
     "data": {
      "text/plain": [
       "{'name': 'lamda', 'stable': True, 'version': 3.6}"
      ]
     },
     "execution_count": 4,
     "metadata": {},
     "output_type": "execute_result"
    }
   ],
   "source": [
    "# create dict using list of pair elements\n",
    "dict_way_fourth = dict([('name',\"lamda\"), (\"version\",3.6), (\"stable\",True)])\n",
    "dict_way_fourth"
   ]
  },
  {
   "cell_type": "code",
   "execution_count": 5,
   "metadata": {},
   "outputs": [
    {
     "data": {
      "text/plain": [
       "{'name': 'python', (1, 2, 3): 'version', 0: True}"
      ]
     },
     "execution_count": 5,
     "metadata": {},
     "output_type": "execute_result"
    }
   ],
   "source": [
    "#Dict with mixed key\n",
    "dict_way_five = {\"name\":\"python\", (1,2,3):\"version\", 0:True}\n",
    "dict_way_five"
   ]
  },
  {
   "cell_type": "markdown",
   "metadata": {},
   "source": [
    "## Acessing the dictionary"
   ]
  },
  {
   "cell_type": "code",
   "execution_count": 6,
   "metadata": {},
   "outputs": [
    {
     "name": "stdout",
     "output_type": "stream",
     "text": [
      "{'name': 'python', (1, 2, 3): 'version', 0: True}\n",
      "value of key \"(1,2,3)\"\n",
      "version\n"
     ]
    }
   ],
   "source": [
    "print(dict_way_five)\n",
    "print(\"value of key \\\"(1,2,3)\\\"\")\n",
    "print(dict_way_five[(1,2,3)])"
   ]
  },
  {
   "cell_type": "code",
   "execution_count": 7,
   "metadata": {},
   "outputs": [
    {
     "name": "stdout",
     "output_type": "stream",
     "text": [
      "{'name': 'lamda', 'version': 3.6, 'stable': True}\n",
      "value of key \"name\"\n",
      "lamda\n"
     ]
    }
   ],
   "source": [
    "print(dict_way_fourth)\n",
    "print(\"value of key \\\"name\\\"\")\n",
    "print(dict_way_fourth['name'])"
   ]
  },
  {
   "cell_type": "code",
   "execution_count": 8,
   "metadata": {},
   "outputs": [
    {
     "name": "stdout",
     "output_type": "stream",
     "text": [
      "{'name': 'python', (1, 2, 3): 'version', 0: True}\n",
      "\n",
      "version\n"
     ]
    }
   ],
   "source": [
    "print(dict_way_five)\n",
    "print()\n",
    "print(dict_way_five.get((1,2,3)))"
   ]
  },
  {
   "cell_type": "markdown",
   "metadata": {},
   "source": [
    "## delete or remove"
   ]
  },
  {
   "cell_type": "markdown",
   "metadata": {},
   "source": [
    "### pop()\n",
    "- remove specified key and return the corresponding value.\n",
    "- If key is not found, d is returned if given, otherwise KeyError is raised"
   ]
  },
  {
   "cell_type": "code",
   "execution_count": 9,
   "metadata": {},
   "outputs": [
    {
     "name": "stdout",
     "output_type": "stream",
     "text": [
      "before pop() :  {'name': 'lamda', 'version': 3.6, 'stable': True}\n",
      "lamda\n",
      "after pop() :  {'version': 3.6, 'stable': True}\n"
     ]
    }
   ],
   "source": [
    "print(\"before pop() : \", dict_way_two)\n",
    "print(dict_way_two.pop('name'))\n",
    "print(\"after pop() : \", dict_way_two)"
   ]
  },
  {
   "cell_type": "markdown",
   "metadata": {},
   "source": [
    "### D.popitem() -> (k, v), \n",
    "- remove and return some (key, value) pair as a\n",
    "- 2-tuple; but raise KeyError if D is empty."
   ]
  },
  {
   "cell_type": "code",
   "execution_count": 10,
   "metadata": {},
   "outputs": [
    {
     "name": "stdout",
     "output_type": "stream",
     "text": [
      "before popitem() :  {'name': 'lamda', 'version': 3.6, 'stable': True}\n",
      "('stable', True)\n",
      "after popitem() :  {'name': 'lamda', 'version': 3.6}\n"
     ]
    }
   ],
   "source": [
    "print(\"before popitem() : \", dict_way_one)\n",
    "print(dict_way_one.popitem()) # it remove some random key value pair\n",
    "print(\"after popitem() : \", dict_way_one)"
   ]
  },
  {
   "cell_type": "markdown",
   "metadata": {},
   "source": [
    "### D.clear() -> None.  \n",
    "- Remove all items from D."
   ]
  },
  {
   "cell_type": "code",
   "execution_count": 11,
   "metadata": {},
   "outputs": [
    {
     "name": "stdout",
     "output_type": "stream",
     "text": [
      "before clear() :  {'name': 'lamda', 'version': 3.6, 'stable': True}\n",
      "None\n",
      "after clear() :  {}\n"
     ]
    }
   ],
   "source": [
    "print(\"before clear() : \", dict_way_third)\n",
    "print(dict_way_third.clear())\n",
    "print(\"after clear() : \", dict_way_third)"
   ]
  },
  {
   "cell_type": "code",
   "execution_count": 12,
   "metadata": {},
   "outputs": [
    {
     "name": "stdout",
     "output_type": "stream",
     "text": [
      "before del :  {'name': 'python', (1, 2, 3): 'version', 0: True}\n",
      "after del :  {(1, 2, 3): 'version', 0: True}\n"
     ]
    }
   ],
   "source": [
    "print(\"before del : \", dict_way_five)\n",
    "del dict_way_five['name']\n",
    "print(\"after del : \", dict_way_five)"
   ]
  },
  {
   "cell_type": "markdown",
   "metadata": {},
   "source": [
    "## change or add elements"
   ]
  },
  {
   "cell_type": "code",
   "execution_count": 13,
   "metadata": {},
   "outputs": [
    {
     "name": "stdout",
     "output_type": "stream",
     "text": [
      "after:  {(1, 2, 3): 'version', 0: True}\n",
      "before:  {(1, 2, 3): 'version', 0: True, 'name': 'lamda'}\n"
     ]
    }
   ],
   "source": [
    "##insert new key\n",
    "print(\"after: \",dict_way_five)\n",
    "dict_way_five['name'] = 'lamda'\n",
    "print(\"before: \",dict_way_five)"
   ]
  },
  {
   "cell_type": "code",
   "execution_count": 14,
   "metadata": {},
   "outputs": [
    {
     "name": "stdout",
     "output_type": "stream",
     "text": [
      "before:  {(1, 2, 3): 'version', 0: True, 'name': 'lamda'}\n",
      "after:  {(1, 2, 3): 'version', 0: False, 'name': 'lamda'}\n"
     ]
    }
   ],
   "source": [
    "#replace\n",
    "print(\"before: \",dict_way_five)\n",
    "dict_way_five[0] = False\n",
    "print(\"after: \",dict_way_five)"
   ]
  },
  {
   "cell_type": "code",
   "execution_count": 15,
   "metadata": {},
   "outputs": [
    {
     "name": "stdout",
     "output_type": "stream",
     "text": [
      "{1: 'one', 2: 'two'}\n",
      "{1: 'one', 2: 'two', 3: 'three'}\n"
     ]
    }
   ],
   "source": [
    "d = {1: \"one\", 2: \"three\"}\n",
    "d1 = {2: \"two\"}\n",
    "\n",
    "# updates the value of key 2\n",
    "d.update(d1)\n",
    "print(d)\n",
    "\n",
    "d1 = {3: \"three\"}\n",
    "\n",
    "# adds element with key 3\n",
    "d.update(d1)\n",
    "print(d)"
   ]
  },
  {
   "cell_type": "code",
   "execution_count": 16,
   "metadata": {},
   "outputs": [
    {
     "name": "stdout",
     "output_type": "stream",
     "text": [
      "{'x': 2, 'y': 3, 'z': 0}\n"
     ]
    }
   ],
   "source": [
    "d = {'x': 2}\n",
    "\n",
    "d.update(y = 3, z = 0)\n",
    "print(d)"
   ]
  },
  {
   "cell_type": "markdown",
   "metadata": {},
   "source": [
    "## Other methods"
   ]
  },
  {
   "cell_type": "code",
   "execution_count": 17,
   "metadata": {},
   "outputs": [
    {
     "data": {
      "text/plain": [
       "dict_keys(['name', 'version'])"
      ]
     },
     "execution_count": 17,
     "metadata": {},
     "output_type": "execute_result"
    }
   ],
   "source": [
    "#keys()\n",
    "dict_way_one.keys()"
   ]
  },
  {
   "cell_type": "code",
   "execution_count": 18,
   "metadata": {},
   "outputs": [
    {
     "data": {
      "text/plain": [
       "dict_values(['lamda', 3.6])"
      ]
     },
     "execution_count": 18,
     "metadata": {},
     "output_type": "execute_result"
    }
   ],
   "source": [
    "#values\n",
    "dict_way_one.values()"
   ]
  },
  {
   "cell_type": "code",
   "execution_count": 19,
   "metadata": {},
   "outputs": [
    {
     "data": {
      "text/plain": [
       "dict_items([('name', 'lamda'), ('version', 3.6)])"
      ]
     },
     "execution_count": 19,
     "metadata": {},
     "output_type": "execute_result"
    }
   ],
   "source": [
    "dict_way_one.items() # a set-like object providing a view on Dict's items"
   ]
  },
  {
   "cell_type": "code",
   "execution_count": 20,
   "metadata": {},
   "outputs": [
    {
     "name": "stdout",
     "output_type": "stream",
     "text": [
      "True\n",
      "False\n",
      "True\n"
     ]
    }
   ],
   "source": [
    "# 'in' and 'not in' operator to check key exist or not\n",
    "print('name' in dict_way_five) #True\n",
    "print('stable' in dict_way_five) #False\n",
    "print('stable' not in dict_way_five) #True"
   ]
  },
  {
   "cell_type": "code",
   "execution_count": null,
   "metadata": {
    "collapsed": true
   },
   "outputs": [],
   "source": []
  }
 ],
 "metadata": {
  "kernelspec": {
   "display_name": "Python 3",
   "language": "python",
   "name": "python3"
  },
  "language_info": {
   "codemirror_mode": {
    "name": "ipython",
    "version": 3
   },
   "file_extension": ".py",
   "mimetype": "text/x-python",
   "name": "python",
   "nbconvert_exporter": "python",
   "pygments_lexer": "ipython3",
   "version": "3.6.2"
  }
 },
 "nbformat": 4,
 "nbformat_minor": 2
}
